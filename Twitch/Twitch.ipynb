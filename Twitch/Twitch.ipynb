{
 "cells": [
  {
   "cell_type": "markdown",
   "metadata": {},
   "source": [
    "## Twitch Messages Extractor "
   ]
  },
  {
   "cell_type": "code",
   "execution_count": 1,
   "metadata": {},
   "outputs": [],
   "source": [
    "from selenium import webdriver\n",
    "import time\n",
    "import os\n",
    "import requests\n",
    "from pathlib import Path\n",
    "from urllib.parse import urlparse\n",
    "from selenium.webdriver.chrome.options import Options\n",
    "from selenium.common.exceptions import NoSuchElementException\n",
    "BASE_DIR = os.path.abspath('')"
   ]
  },
  {
   "cell_type": "code",
   "execution_count": 2,
   "metadata": {},
   "outputs": [],
   "source": [
    "chromeOptions = webdriver.ChromeOptions()\n",
    "#prefs={'disk-cache-size': 9000,'profile.default_content_settings.images': 2,'profile.managed_default_content_settings.images': 2 }\n",
    "#chromeOptions.add_experimental_option('prefs', prefs)\n",
    "browser =webdriver.Chrome(\"C:/Users/bashi/Downloads/Compressed/chromedriver.exe\",options=chromeOptions)\n",
    "BASE_DIR = os.path.abspath(\"\")"
   ]
  },
  {
   "cell_type": "code",
   "execution_count": null,
   "metadata": {},
   "outputs": [],
   "source": [
    "browser.get(\"https://www.twitch.tv/videos/875997020\")"
   ]
  },
  {
   "cell_type": "code",
   "execution_count": 9,
   "metadata": {},
   "outputs": [],
   "source": [
    "chats = browser.find_elements_by_class_name(\"vod-message\")"
   ]
  },
  {
   "cell_type": "code",
   "execution_count": 22,
   "metadata": {},
   "outputs": [
    {
     "data": {
      "text/plain": [
       "'Google sheets link?'"
      ]
     },
     "execution_count": 22,
     "metadata": {},
     "output_type": "execute_result"
    }
   ],
   "source": [
    "chats[0].find_element_by_class_name('text-fragment').text"
   ]
  },
  {
   "cell_type": "code",
   "execution_count": 25,
   "metadata": {},
   "outputs": [],
   "source": [
    "user_chats=[]\n",
    "for chat in chats:\n",
    "    time = chat.find_element_by_css_selector('p').text\n",
    "    username = chat.find_element_by_class_name('chat-author__display-name').text\n",
    "    message = chat.find_element_by_class_name('text-fragment').text\n",
    "    user_chats.append({\n",
    "        'time':time,\n",
    "        'username':username,\n",
    "        'message':message\n",
    "    })"
   ]
  },
  {
   "cell_type": "code",
   "execution_count": 26,
   "metadata": {},
   "outputs": [
    {
     "data": {
      "text/plain": [
       "[{'time': '19:08',\n",
       "  'username': 'himanshujaidka',\n",
       "  'message': 'Google sheets link?'},\n",
       " {'time': '19:17', 'username': 'SunderB', 'message': 'What are Blahajs?'},\n",
       " {'time': '19:19', 'username': 'AdamDrummond', 'message': 'WOOO BLAHAAAAAJ'},\n",
       " {'time': '19:20',\n",
       "  'username': 'tanmay000009',\n",
       "  'message': 'it will be posted after this leadboard update ends'},\n",
       " {'time': '19:25',\n",
       "  'username': 'sreekaransrinath',\n",
       "  'message': \"Where's Aditya\"},\n",
       " {'time': '19:27', 'username': 'tanmay000009', 'message': 'leaderboard*'},\n",
       " {'time': '19:29', 'username': 'heyyitsnanc', 'message': 'ess the shark!'},\n",
       " {'time': '19:40',\n",
       "  'username': 'AdamDrummond',\n",
       "  'message': 'Go Ryan with the Christmas mug'},\n",
       " {'time': '19:41', 'username': 'himanshujaidka', 'message': 'thnks'},\n",
       " {'time': '19:44', 'username': 'amitagarwal2312', 'message': '#EQUICODE'},\n",
       " {'time': '19:45',\n",
       "  'username': 'Ezra0110',\n",
       "  'message': '🦈 shark emoji in chat everyone'},\n",
       " {'time': '19:51', 'username': 'Ezra0110', 'message': '🦈🦈🦈🦈'},\n",
       " {'time': '20:09', 'username': 'umairjibran', 'message': '🦈🦈🦈🦈'},\n",
       " {'time': '20:12', 'username': 'himanshujaidka', 'message': '🦈🦈🦈'},\n",
       " {'time': '20:16', 'username': 'mrcamzy', 'message': 'hello'}]"
      ]
     },
     "execution_count": 26,
     "metadata": {},
     "output_type": "execute_result"
    }
   ],
   "source": [
    "user_chats"
   ]
  }
 ],
 "metadata": {
  "kernelspec": {
   "display_name": "Python 3",
   "language": "python",
   "name": "python3"
  },
  "language_info": {
   "codemirror_mode": {
    "name": "ipython",
    "version": 3
   },
   "file_extension": ".py",
   "mimetype": "text/x-python",
   "name": "python",
   "nbconvert_exporter": "python",
   "pygments_lexer": "ipython3",
   "version": "3.8.6"
  }
 },
 "nbformat": 4,
 "nbformat_minor": 4
}
